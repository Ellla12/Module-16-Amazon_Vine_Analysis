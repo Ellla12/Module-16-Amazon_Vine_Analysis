{
 "cells": [
  {
   "cell_type": "code",
   "execution_count": 5,
   "id": "92c90247",
   "metadata": {},
   "outputs": [],
   "source": [
    "import pandas as pd\n",
    "import matplotlib.pyplot as plt"
   ]
  },
  {
   "cell_type": "code",
   "execution_count": null,
   "id": "df4b20c4",
   "metadata": {},
   "outputs": [],
   "source": [
    "vine_df = pd.read_csv('vine_table.csv')\n",
    "vine_df.head()"
   ]
  },
  {
   "cell_type": "code",
   "execution_count": null,
   "id": "aefcd315",
   "metadata": {},
   "outputs": [],
   "source": [
    "vine_df.info()"
   ]
  },
  {
   "cell_type": "code",
   "execution_count": null,
   "id": "6234ed5b",
   "metadata": {},
   "outputs": [],
   "source": [
    "filtered_df = vine_df[vine_df['total_votes'] >= 20]\n",
    "filtered_df.head()"
   ]
  },
  {
   "cell_type": "code",
   "execution_count": null,
   "id": "374e0dcc",
   "metadata": {},
   "outputs": [],
   "source": [
    "helpful_df = filtered_df.loc[filtered_df.helpful_votes / filtered_df.total_votes >= 0.5]\n",
    "helpful_df.head()"
   ]
  },
  {
   "cell_type": "code",
   "execution_count": null,
   "id": "fd3b709d",
   "metadata": {},
   "outputs": [],
   "source": [
    "paid = helpful_df[helpful_df['vine'] == 'Y']\n",
    "paid.head()"
   ]
  },
  {
   "cell_type": "code",
   "execution_count": null,
   "id": "2ab45876",
   "metadata": {},
   "outputs": [],
   "source": [
    "unpaid = helpful_df[helpful_df['vine'] == 'N']\n",
    "unpaid.head()"
   ]
  },
  {
   "cell_type": "code",
   "execution_count": null,
   "id": "ce423005",
   "metadata": {},
   "outputs": [],
   "source": [
    "count_paid = len(paid)\n",
    "count_paid"
   ]
  },
  {
   "cell_type": "code",
   "execution_count": null,
   "id": "a12c737a",
   "metadata": {},
   "outputs": [],
   "source": [
    "count_unpaid = len(unpaid)\n",
    "count_unpaid"
   ]
  },
  {
   "cell_type": "code",
   "execution_count": null,
   "id": "e9ae4654",
   "metadata": {},
   "outputs": [],
   "source": [
    "paidstars = len(paid[paid['star_rating']==5])\n",
    "paidstars"
   ]
  },
  {
   "cell_type": "code",
   "execution_count": null,
   "id": "8e7001ec",
   "metadata": {},
   "outputs": [],
   "source": [
    "unpaidstars = len(unpaid[unpaid['star_rating']==5])\n",
    "unpaidstars"
   ]
  },
  {
   "cell_type": "code",
   "execution_count": null,
   "id": "b25d3b40",
   "metadata": {},
   "outputs": [],
   "source": [
    "paidstars/count_paid"
   ]
  },
  {
   "cell_type": "code",
   "execution_count": null,
   "id": "bee03e2e",
   "metadata": {},
   "outputs": [],
   "source": [
    "unpaidstars/count_unpaid"
   ]
  },
  {
   "cell_type": "code",
   "execution_count": null,
   "id": "b95db0b6",
   "metadata": {},
   "outputs": [],
   "source": []
  }
 ],
 "metadata": {
  "kernelspec": {
   "display_name": "Python 3",
   "language": "python",
   "name": "python3"
  },
  "language_info": {
   "codemirror_mode": {
    "name": "ipython",
    "version": 3
   },
   "file_extension": ".py",
   "mimetype": "text/x-python",
   "name": "python",
   "nbconvert_exporter": "python",
   "pygments_lexer": "ipython3",
   "version": "3.8.8"
  }
 },
 "nbformat": 4,
 "nbformat_minor": 5
}
